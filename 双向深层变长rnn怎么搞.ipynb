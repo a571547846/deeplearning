{
 "cells": [
  {
   "cell_type": "code",
   "execution_count": 6,
   "metadata": {},
   "outputs": [
    {
     "name": "stdout",
     "output_type": "stream",
     "text": [
      "[[[-1.06330002 -1.6277488   0.67079667  0.21676019  1.54867189]\n",
      "  [-1.3921073   2.32283792 -0.00250361 -0.53558677 -0.0083708 ]\n",
      "  [-0.01235162 -0.2523287  -0.44393712  1.15784997  0.75911585]\n",
      "  [-0.44185104 -1.3685178   1.36309256  0.06392272  1.06532389]]\n",
      "\n",
      " [[ 0.79846544 -0.93057389  0.38052451 -1.00611644  0.49802966]\n",
      "  [ 0.77160553 -0.77193227  0.07702499 -0.39878322  0.46275217]\n",
      "  [-1.38551485 -1.3315589  -0.59122004  1.18298241  0.43516593]\n",
      "  [-0.33603246 -0.55673033  1.97620992 -0.04323674  0.94787764]]]\n",
      "[[[-1.06330002 -1.6277488   0.67079667  0.21676019  1.54867189]\n",
      "  [-1.3921073   2.32283792 -0.00250361 -0.53558677 -0.0083708 ]\n",
      "  [-0.01235162 -0.2523287  -0.44393712  1.15784997  0.75911585]\n",
      "  [-0.44185104 -1.3685178   1.36309256  0.06392272  1.06532389]]\n",
      "\n",
      " [[ 0.79846544 -0.93057389  0.38052451 -1.00611644  0.49802966]\n",
      "  [ 0.77160553 -0.77193227  0.07702499 -0.39878322  0.46275217]\n",
      "  [ 0.          0.          0.          0.          0.        ]\n",
      "  [ 0.          0.          0.          0.          0.        ]]]\n",
      "(<tf.Tensor 'stack_bidirectional_rnn/cell_0/bidirectional_rnn/fw/fw/while/Exit_3:0' shape=(2, 3) dtype=float64>, <tf.Tensor 'stack_bidirectional_rnn/cell_0/bidirectional_rnn/fw/fw/while/Exit_4:0' shape=(2, 3) dtype=float64>, <tf.Tensor 'stack_bidirectional_rnn/cell_0/bidirectional_rnn/fw/fw/while/Exit_5:0' shape=(2, 3) dtype=float64>)\n"
     ]
    }
   ],
   "source": [
    "#配上这里的解说：https://blog.csdn.net/lijin6249/article/details/78955175\n",
    "import tensorflow as tf\n",
    "import numpy as np\n",
    "tf.reset_default_graph()\n",
    "# 创建输入数据\n",
    "#Xy有两条数据，每条数据有四个时间步，每个时间步输入是长度为5的向量\n",
    "X = np.random.randn(2, 4, 5)# 批次 、序列长度、样本维度\n",
    "print(X)\n",
    "\n",
    "# 第二个样本长度为3  将X的第二条数据的第三步及以后都置零，这步手动将第二条数据的\n",
    "#步数缩短为2步。（以便后面体现dynamicrnn的便利）\n",
    "X[1,2:] = 0\n",
    "print(X)\n",
    "\n",
    "#这步是定义每条数据的时间步数（第一条有四步，第二条有两步）\n",
    "seq_lengths = [4, 2]\n",
    "\n",
    "Gstacked_rnn = []\n",
    "Gstacked_bw_rnn = []\n",
    "#这里用了三层的gru，如果用lstm也是一样的套路\n",
    "for i in range(3):\n",
    "    \n",
    "    #下面两句里的三是本层的单元数是3，这样输出长度就为3的向量。\n",
    "    Gstacked_rnn.append(tf.contrib.rnn.GRUCell(3))\n",
    "    Gstacked_bw_rnn.append(tf.contrib.rnn.GRUCell(3))\n",
    "\n",
    "#建立前向和后向的三层RNN\n",
    "Gmcell = tf.contrib.rnn.MultiRNNCell(Gstacked_rnn)\n",
    "Gmcell_bw = tf.contrib.rnn.MultiRNNCell(Gstacked_bw_rnn)\n",
    "\n",
    "sGbioutputs, sGoutput_state_fw, sGoutput_state_bw = tf.contrib.rnn.stack_bidirectional_dynamic_rnn([Gmcell],[Gmcell_bw], X,sequence_length=seq_lengths,                                           dtype=tf.float64)\n",
    "print(sGoutput_state_fw[0])\n",
    "\n",
    "Gbioutputs, Goutput_state_fw = tf.nn.bidirectional_dynamic_rnn(Gmcell,Gmcell_bw, X,sequence_length=seq_lengths,dtype=tf.float64)"
   ]
  },
  {
   "cell_type": "code",
   "execution_count": 2,
   "metadata": {},
   "outputs": [
    {
     "name": "stdout",
     "output_type": "stream",
     "text": [
      "全序列：\n",
      " [[ 0.00186137 -0.00137263  0.00243812  0.00085383 -0.10283804  0.13501629]\n",
      " [ 0.00742559 -0.00421351  0.00804357  0.00374449 -0.07308348  0.09061855]\n",
      " [ 0.00998598 -0.00575115  0.01034144 -0.00125412 -0.0420605   0.04774949]\n",
      " [ 0.00855077 -0.0097446   0.00625111 -0.00110107 -0.01872834  0.0195598 ]]\n",
      "短序列：\n",
      " [[ 0.00367557  0.00168543  0.00702262  0.03195176  0.02263612 -0.01436679]\n",
      " [ 0.00362736  0.00393701  0.00587138  0.00790239  0.01356343 -0.01141595]\n",
      " [ 0.          0.          0.          0.          0.          0.        ]\n",
      " [ 0.          0.          0.          0.          0.          0.        ]]\n",
      "Gru的状态： 3 \n",
      " [[-0.10206916  0.34912521 -0.14471451]\n",
      " [ 0.07038607  0.04207276 -0.10285089]] \n",
      " [[-0.05735781  0.00822549 -0.02484693]\n",
      " [-0.00205732 -0.00844095  0.00650623]] \n",
      " [[ 0.00855077 -0.0097446   0.00625111]\n",
      " [ 0.00362736  0.00393701  0.00587138]]\n",
      "Gru的状态： 3 \n",
      " [[-0.03204368  0.26579786  0.46941746]\n",
      " [-0.1922159   0.23100648 -0.0675489 ]] \n",
      " [[ 0.0804005   0.21776849  0.11664888]\n",
      " [-0.09214047 -0.01013073  0.05976413]] \n",
      " [[ 0.00085383 -0.10283804  0.13501629]\n",
      " [ 0.03195176  0.02263612 -0.01436679]]\n"
     ]
    }
   ],
   "source": [
    "sess = tf.InteractiveSession()\n",
    "sess.run(tf.global_variables_initializer())\n",
    "\n",
    "sgbresult,sgstate_fw,sgstate_bw=sess.run([sGbioutputs,sGoutput_state_fw,sGoutput_state_bw])\n",
    "print(\"全序列：\\n\", sgbresult[0])\n",
    "print(\"短序列：\\n\", sgbresult[1])\n",
    "print('Gru的状态：',len(sgstate_fw[0]),'\\n',sgstate_fw[0][0],'\\n',sgstate_fw[0][1],'\\n',sgstate_fw[0][2])\n",
    "print('Gru的状态：',len(sgstate_bw[0]),'\\n',sgstate_bw[0][0],'\\n',sgstate_bw[0][1],'\\n',sgstate_bw[0][2])\n",
    "\n",
    "#对下面输出的解释：首先\n",
    "#全序列：写的人起了个破名字，其实这就是第一条数据的输出，第二条数据因为步长手动减少了，\n",
    "#所以相对来说是短序列。 sgbresult输出的是[batch_site,max_time,layers_output]\n",
    "#sgbresult[0]也就是第一条输出，本输出总共有四行，是因为第一条数据有4步，每步输出的6个值，\n",
    "#前三个值是前向网络的输出（三是因为上面网络中gru单元输出定shape的三），后三个是后向的\n",
    "\n",
    "#短序列同理\n",
    "\n",
    "#sgstate_fw,即函数的第二个输出，是前向的final_state,包括h和c，sgstate_fw[0]表示h\n",
    "#h也是一个元组，sgstate_fw[0]包括了三层的状态，也就是sgstate_fw[0][0],sgstate_fw[0][1]\n",
    "#sgstate_fw[0][2], 同时，可以看到，sgstate_fw[0][0]长度为6，是两条数据，每条最终状态都是\n",
    "#3造成的。\n",
    "\n",
    "#而反向可能会让人迷惑，其实只要明白，反向网络的最终状态是第一个时间步（因为反着输入的嘛）\n",
    "#sgstate_bw[0](也就是反向的h)同样是包括了三个层的状态，拿最后一层的状态sgstate_bw[2]为\n",
    "#例，这其实就是第一个时间步的输出，输出值长度为6，就是第一个时间步两条数据的各三条输出。"
   ]
  },
  {
   "cell_type": "code",
   "execution_count": null,
   "metadata": {
    "collapsed": true
   },
   "outputs": [],
   "source": []
  }
 ],
 "metadata": {
  "kernelspec": {
   "display_name": "Python 3",
   "language": "python",
   "name": "python3"
  },
  "language_info": {
   "codemirror_mode": {
    "name": "ipython",
    "version": 3
   },
   "file_extension": ".py",
   "mimetype": "text/x-python",
   "name": "python",
   "nbconvert_exporter": "python",
   "pygments_lexer": "ipython3",
   "version": "3.6.5"
  }
 },
 "nbformat": 4,
 "nbformat_minor": 2
}
