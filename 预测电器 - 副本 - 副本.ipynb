{
 "cells": [
  {
   "cell_type": "code",
   "execution_count": 1,
   "metadata": {
    "collapsed": true
   },
   "outputs": [],
   "source": [
    "import tensorflow as tf\n",
    "import pandas as pd\n",
    "import numpy as np\n",
    "#import rnn_utils\n",
    "import random\n",
    "\n",
    "#import tensorflow.examples.tutorials.mnist.input_data as input_data\n",
    "#mnist = input_data.read_data_sets(\"MNIST_data/\", one_hot=True) #导入数据"
   ]
  },
  {
   "cell_type": "code",
   "execution_count": 2,
   "metadata": {
    "collapsed": true
   },
   "outputs": [],
   "source": [
    "#文件读出来是DataFrame\n",
    "startarray=pd.read_csv(\"startarray.csv\",header=None)\n",
    "endarray=pd.read_csv(\"endarray.csv\",header=None)\n",
    "\n",
    "startarray.columns=['start']\n",
    "endarray.columns=['end']\n",
    "#startarray.rename(columns={'start'},inplace=True)\n",
    "#endarray.rename(columns={'end'},inplace=True)\n",
    "\n",
    "startarray['start']=startarray['start'].astype(int)\n",
    "endarray['end']=endarray['end'].astype(int)\n",
    "\n",
    "#startarray"
   ]
  },
  {
   "cell_type": "code",
   "execution_count": 3,
   "metadata": {
    "collapsed": true
   },
   "outputs": [],
   "source": [
    "main=pd.read_table(\"channel_1.dat\",header=None)\n",
    "#如果不加header=Node，会默认将第一行数据当\n"
   ]
  },
  {
   "cell_type": "code",
   "execution_count": 4,
   "metadata": {
    "collapsed": true
   },
   "outputs": [],
   "source": [
    "type(main[0][0])\n",
    "tfdata=main[0].str.split(' ',expand=True)\n",
    "tfdata[0]=pd.to_numeric(tfdata[0])\n",
    "tfdata[1]=pd.to_numeric(tfdata[1])\n"
   ]
  },
  {
   "cell_type": "code",
   "execution_count": 5,
   "metadata": {
    "collapsed": true
   },
   "outputs": [],
   "source": [
    "tfdata['switch']=0/tfdata[1]\n",
    "tfdata.columns=['time','mainpower','washerpower']\n",
    "\n"
   ]
  },
  {
   "cell_type": "code",
   "execution_count": 6,
   "metadata": {
    "collapsed": true
   },
   "outputs": [],
   "source": [
    "actitime=pd.read_csv(\"actitime.csv\",header=None)\n",
    "activalue=pd.read_csv(\"activalue.csv\",header=None)\n",
    "washeractitime=pd.read_csv(\"washeractitime.csv\",header=None)\n",
    "washeractivalue=pd.read_csv(\"washeractivalue.csv\",header=None)\n",
    "\n",
    "actitime.columns=['actitime']\n",
    "activalue.columns=['value']\n",
    "washeractitime.columns=['washeractitime']\n",
    "washeractivalue.columns=['washervalue']\n",
    "#startarray.rename(columns={'start'},inplace=True)\n",
    "#endarray.rename(columns={'end'},inplace=True)\n",
    "\n",
    "actitime['actitime']=actitime['actitime'].astype(int)\n",
    "activalue['value']=activalue['value'].astype(int)\n",
    "washeractitime['washeractitime']=washeractitime['washeractitime'].astype(int)\n",
    "washeractivalue['washervalue']=washeractivalue['washervalue'].astype(int)"
   ]
  },
  {
   "cell_type": "code",
   "execution_count": 7,
   "metadata": {
    "collapsed": true
   },
   "outputs": [],
   "source": [
    "tfdata1=tfdata.set_index('time',inplace=False,drop=True)\n",
    "#tfdata1"
   ]
  },
  {
   "cell_type": "code",
   "execution_count": 8,
   "metadata": {},
   "outputs": [
    {
     "data": {
      "text/plain": [
       "46"
      ]
     },
     "execution_count": 8,
     "metadata": {},
     "output_type": "execute_result"
    }
   ],
   "source": [
    "tfdata1['mainpower'].min()"
   ]
  },
  {
   "cell_type": "code",
   "execution_count": 9,
   "metadata": {},
   "outputs": [
    {
     "data": {
      "text/plain": [
       "8423"
      ]
     },
     "execution_count": 9,
     "metadata": {},
     "output_type": "execute_result"
    }
   ],
   "source": [
    "tfdata1['mainpower'].max()"
   ]
  },
  {
   "cell_type": "code",
   "execution_count": 10,
   "metadata": {
    "collapsed": true
   },
   "outputs": [],
   "source": [
    "#x_norm = (x - x_min) / (x_max - x_min)\n",
    "\n",
    "tfdata1['mainpower']=(tfdata1['mainpower']-tfdata1['mainpower'].min())/(tfdata1['mainpower'].max()-tfdata1['mainpower'].min())\n",
    "#tfdata1"
   ]
  },
  {
   "cell_type": "code",
   "execution_count": 11,
   "metadata": {
    "collapsed": true
   },
   "outputs": [],
   "source": [
    "#listend=[]\n",
    "#liststart=[]\n",
    "#drop=0\n",
    "#long=actitime['actitime'].size-1\n",
    "\n",
    "#liststart.append(actitime['actitime'][0])\n",
    "\n",
    "#while(drop<long):\n",
    "#    if(actitime['actitime'][drop+1]-actitime['actitime'][drop]>8):\n",
    "#        liststart.append(actitime['actitime'][drop+1])\n",
    "#        listend.append(actitime['actitime'][drop])\n",
    "#    drop+=1\n",
    "#listend.append(actitime['actitime'][long])    "
   ]
  },
  {
   "cell_type": "code",
   "execution_count": 12,
   "metadata": {
    "collapsed": true
   },
   "outputs": [],
   "source": [
    "def StartAndEnd(time):\n",
    "    listend=[]\n",
    "    liststart=[]\n",
    "    drop=0\n",
    "    long=time.size-1\n",
    "    print(long)\n",
    "    liststart.append(time[0])\n",
    "\n",
    "    while(drop<long):\n",
    "        if(time[drop+1]-time[drop]>8):\n",
    "            liststart.append(time[drop+1])\n",
    "            listend.append(time[drop])\n",
    "        #print(drop)\n",
    "        drop+=1\n",
    "    listend.append(time[long]) \n",
    "    return liststart,listend"
   ]
  },
  {
   "cell_type": "code",
   "execution_count": 13,
   "metadata": {},
   "outputs": [
    {
     "name": "stdout",
     "output_type": "stream",
     "text": [
      "63827\n"
     ]
    }
   ],
   "source": [
    "liststart,listend=StartAndEnd(actitime['actitime'])  #只在生成txt时用一次，之后直接读txt的数据"
   ]
  },
  {
   "cell_type": "code",
   "execution_count": null,
   "metadata": {
    "collapsed": true
   },
   "outputs": [],
   "source": [
    "#washerstart,washerend=StartAndEnd(washeractitime['washeractitime'])//同上\n",
    "#washerstart"
   ]
  },
  {
   "cell_type": "code",
   "execution_count": null,
   "metadata": {
    "collapsed": true
   },
   "outputs": [],
   "source": [
    "drop=0\n",
    "long=len(washerstart)\n",
    "\n",
    "\n",
    "\n",
    "while(drop<long):\n",
    "    i=0\n",
    "    j=len(liststart)\n",
    "    while(i<j):\n",
    "        if (liststart[i]>washerstart[drop]and liststart[i]<washerend[drop])or listend[i]>washerstart[drop]and listend[i]<washerend[drop]:\n",
    "            del washerstart[drop]\n",
    "            del washerend[drop]\n",
    "            long=long-1\n",
    "            break\n",
    "        i+=1\n",
    "    drop+=1\n",
    "    "
   ]
  },
  {
   "cell_type": "code",
   "execution_count": null,
   "metadata": {
    "collapsed": true
   },
   "outputs": [],
   "source": [
    "#washerstart"
   ]
  },
  {
   "cell_type": "code",
   "execution_count": 14,
   "metadata": {},
   "outputs": [
    {
     "name": "stdout",
     "output_type": "stream",
     "text": [
      "2992\n",
      "0\n",
      "100\n",
      "200\n",
      "300\n",
      "400\n",
      "500\n",
      "600\n",
      "700\n",
      "800\n",
      "900\n",
      "1000\n",
      "1100\n",
      "1200\n",
      "1300\n",
      "1400\n",
      "1500\n",
      "1600\n",
      "1700\n",
      "1800\n",
      "1900\n",
      "2000\n",
      "2100\n",
      "2200\n",
      "2300\n",
      "2400\n",
      "2500\n",
      "2600\n",
      "2700\n",
      "2800\n",
      "2900\n"
     ]
    }
   ],
   "source": [
    "drop=0\n",
    "long=len(liststart)\n",
    "print(long)\n",
    "while drop<long:\n",
    "    if(drop%100==0):\n",
    "        print(drop)\n",
    "    tfdata1.loc[liststart[drop]:listend[drop],['washerpower']]=1\n",
    "    drop+=1\n"
   ]
  },
  {
   "cell_type": "code",
   "execution_count": 15,
   "metadata": {},
   "outputs": [
    {
     "data": {
      "text/html": [
       "<div>\n",
       "<style>\n",
       "    .dataframe thead tr:only-child th {\n",
       "        text-align: right;\n",
       "    }\n",
       "\n",
       "    .dataframe thead th {\n",
       "        text-align: left;\n",
       "    }\n",
       "\n",
       "    .dataframe tbody tr th {\n",
       "        vertical-align: top;\n",
       "    }\n",
       "</style>\n",
       "<table border=\"1\" class=\"dataframe\">\n",
       "  <thead>\n",
       "    <tr style=\"text-align: right;\">\n",
       "      <th></th>\n",
       "      <th>mainpower</th>\n",
       "      <th>washerpower</th>\n",
       "    </tr>\n",
       "    <tr>\n",
       "      <th>time</th>\n",
       "      <th></th>\n",
       "      <th></th>\n",
       "    </tr>\n",
       "  </thead>\n",
       "  <tbody>\n",
       "    <tr>\n",
       "      <th>1357029778</th>\n",
       "      <td>0.334726</td>\n",
       "      <td>1.0</td>\n",
       "    </tr>\n",
       "    <tr>\n",
       "      <th>1357029784</th>\n",
       "      <td>0.322430</td>\n",
       "      <td>1.0</td>\n",
       "    </tr>\n",
       "    <tr>\n",
       "      <th>1357029790</th>\n",
       "      <td>0.324102</td>\n",
       "      <td>1.0</td>\n",
       "    </tr>\n",
       "    <tr>\n",
       "      <th>1357029796</th>\n",
       "      <td>0.332219</td>\n",
       "      <td>1.0</td>\n",
       "    </tr>\n",
       "    <tr>\n",
       "      <th>1357029802</th>\n",
       "      <td>0.328877</td>\n",
       "      <td>1.0</td>\n",
       "    </tr>\n",
       "    <tr>\n",
       "      <th>1357029808</th>\n",
       "      <td>0.326609</td>\n",
       "      <td>1.0</td>\n",
       "    </tr>\n",
       "    <tr>\n",
       "      <th>1357029814</th>\n",
       "      <td>0.321237</td>\n",
       "      <td>1.0</td>\n",
       "    </tr>\n",
       "    <tr>\n",
       "      <th>1357029820</th>\n",
       "      <td>0.380327</td>\n",
       "      <td>1.0</td>\n",
       "    </tr>\n",
       "    <tr>\n",
       "      <th>1357029826</th>\n",
       "      <td>0.525009</td>\n",
       "      <td>1.0</td>\n",
       "    </tr>\n",
       "    <tr>\n",
       "      <th>1357029832</th>\n",
       "      <td>0.521428</td>\n",
       "      <td>1.0</td>\n",
       "    </tr>\n",
       "    <tr>\n",
       "      <th>1357029838</th>\n",
       "      <td>0.522144</td>\n",
       "      <td>1.0</td>\n",
       "    </tr>\n",
       "    <tr>\n",
       "      <th>1357029843</th>\n",
       "      <td>0.328996</td>\n",
       "      <td>1.0</td>\n",
       "    </tr>\n",
       "    <tr>\n",
       "      <th>1357029849</th>\n",
       "      <td>0.324102</td>\n",
       "      <td>1.0</td>\n",
       "    </tr>\n",
       "    <tr>\n",
       "      <th>1357029855</th>\n",
       "      <td>0.322311</td>\n",
       "      <td>1.0</td>\n",
       "    </tr>\n",
       "    <tr>\n",
       "      <th>1357029861</th>\n",
       "      <td>0.331742</td>\n",
       "      <td>1.0</td>\n",
       "    </tr>\n",
       "    <tr>\n",
       "      <th>1357029867</th>\n",
       "      <td>0.325534</td>\n",
       "      <td>1.0</td>\n",
       "    </tr>\n",
       "    <tr>\n",
       "      <th>1357029873</th>\n",
       "      <td>0.325176</td>\n",
       "      <td>1.0</td>\n",
       "    </tr>\n",
       "    <tr>\n",
       "      <th>1357029879</th>\n",
       "      <td>0.331503</td>\n",
       "      <td>1.0</td>\n",
       "    </tr>\n",
       "    <tr>\n",
       "      <th>1357029885</th>\n",
       "      <td>0.331980</td>\n",
       "      <td>1.0</td>\n",
       "    </tr>\n",
       "    <tr>\n",
       "      <th>1357029891</th>\n",
       "      <td>0.324699</td>\n",
       "      <td>1.0</td>\n",
       "    </tr>\n",
       "    <tr>\n",
       "      <th>1357029897</th>\n",
       "      <td>0.323982</td>\n",
       "      <td>1.0</td>\n",
       "    </tr>\n",
       "    <tr>\n",
       "      <th>1357029903</th>\n",
       "      <td>0.064104</td>\n",
       "      <td>1.0</td>\n",
       "    </tr>\n",
       "    <tr>\n",
       "      <th>1357029910</th>\n",
       "      <td>0.063985</td>\n",
       "      <td>1.0</td>\n",
       "    </tr>\n",
       "    <tr>\n",
       "      <th>1357043052</th>\n",
       "      <td>0.347977</td>\n",
       "      <td>1.0</td>\n",
       "    </tr>\n",
       "    <tr>\n",
       "      <th>1357043058</th>\n",
       "      <td>0.339979</td>\n",
       "      <td>1.0</td>\n",
       "    </tr>\n",
       "    <tr>\n",
       "      <th>1357043064</th>\n",
       "      <td>0.338665</td>\n",
       "      <td>1.0</td>\n",
       "    </tr>\n",
       "    <tr>\n",
       "      <th>1357043070</th>\n",
       "      <td>0.338069</td>\n",
       "      <td>1.0</td>\n",
       "    </tr>\n",
       "    <tr>\n",
       "      <th>1357043076</th>\n",
       "      <td>0.336994</td>\n",
       "      <td>1.0</td>\n",
       "    </tr>\n",
       "    <tr>\n",
       "      <th>1357043082</th>\n",
       "      <td>0.335084</td>\n",
       "      <td>1.0</td>\n",
       "    </tr>\n",
       "    <tr>\n",
       "      <th>1357043088</th>\n",
       "      <td>0.331742</td>\n",
       "      <td>1.0</td>\n",
       "    </tr>\n",
       "    <tr>\n",
       "      <th>...</th>\n",
       "      <td>...</td>\n",
       "      <td>...</td>\n",
       "    </tr>\n",
       "    <tr>\n",
       "      <th>1414655128</th>\n",
       "      <td>0.316939</td>\n",
       "      <td>1.0</td>\n",
       "    </tr>\n",
       "    <tr>\n",
       "      <th>1414655134</th>\n",
       "      <td>0.317297</td>\n",
       "      <td>1.0</td>\n",
       "    </tr>\n",
       "    <tr>\n",
       "      <th>1414655141</th>\n",
       "      <td>0.312642</td>\n",
       "      <td>1.0</td>\n",
       "    </tr>\n",
       "    <tr>\n",
       "      <th>1414655147</th>\n",
       "      <td>0.315745</td>\n",
       "      <td>1.0</td>\n",
       "    </tr>\n",
       "    <tr>\n",
       "      <th>1414655154</th>\n",
       "      <td>0.316342</td>\n",
       "      <td>1.0</td>\n",
       "    </tr>\n",
       "    <tr>\n",
       "      <th>1414655160</th>\n",
       "      <td>0.311329</td>\n",
       "      <td>1.0</td>\n",
       "    </tr>\n",
       "    <tr>\n",
       "      <th>1414655166</th>\n",
       "      <td>0.313597</td>\n",
       "      <td>1.0</td>\n",
       "    </tr>\n",
       "    <tr>\n",
       "      <th>1414655173</th>\n",
       "      <td>0.318730</td>\n",
       "      <td>1.0</td>\n",
       "    </tr>\n",
       "    <tr>\n",
       "      <th>1414655179</th>\n",
       "      <td>0.316342</td>\n",
       "      <td>1.0</td>\n",
       "    </tr>\n",
       "    <tr>\n",
       "      <th>1414655186</th>\n",
       "      <td>0.548764</td>\n",
       "      <td>1.0</td>\n",
       "    </tr>\n",
       "    <tr>\n",
       "      <th>1414655192</th>\n",
       "      <td>0.549123</td>\n",
       "      <td>1.0</td>\n",
       "    </tr>\n",
       "    <tr>\n",
       "      <th>1414655199</th>\n",
       "      <td>0.547332</td>\n",
       "      <td>1.0</td>\n",
       "    </tr>\n",
       "    <tr>\n",
       "      <th>1414655205</th>\n",
       "      <td>0.530620</td>\n",
       "      <td>1.0</td>\n",
       "    </tr>\n",
       "    <tr>\n",
       "      <th>1414655211</th>\n",
       "      <td>0.540647</td>\n",
       "      <td>1.0</td>\n",
       "    </tr>\n",
       "    <tr>\n",
       "      <th>1414655218</th>\n",
       "      <td>0.366002</td>\n",
       "      <td>1.0</td>\n",
       "    </tr>\n",
       "    <tr>\n",
       "      <th>1414655224</th>\n",
       "      <td>0.304644</td>\n",
       "      <td>1.0</td>\n",
       "    </tr>\n",
       "    <tr>\n",
       "      <th>1414655231</th>\n",
       "      <td>0.311806</td>\n",
       "      <td>1.0</td>\n",
       "    </tr>\n",
       "    <tr>\n",
       "      <th>1414655237</th>\n",
       "      <td>0.310016</td>\n",
       "      <td>1.0</td>\n",
       "    </tr>\n",
       "    <tr>\n",
       "      <th>1414655244</th>\n",
       "      <td>0.313836</td>\n",
       "      <td>1.0</td>\n",
       "    </tr>\n",
       "    <tr>\n",
       "      <th>1414655250</th>\n",
       "      <td>0.312642</td>\n",
       "      <td>1.0</td>\n",
       "    </tr>\n",
       "    <tr>\n",
       "      <th>1414655257</th>\n",
       "      <td>0.311209</td>\n",
       "      <td>1.0</td>\n",
       "    </tr>\n",
       "    <tr>\n",
       "      <th>1414655264</th>\n",
       "      <td>0.304047</td>\n",
       "      <td>1.0</td>\n",
       "    </tr>\n",
       "    <tr>\n",
       "      <th>1414655270</th>\n",
       "      <td>0.315387</td>\n",
       "      <td>1.0</td>\n",
       "    </tr>\n",
       "    <tr>\n",
       "      <th>1414655276</th>\n",
       "      <td>0.319685</td>\n",
       "      <td>1.0</td>\n",
       "    </tr>\n",
       "    <tr>\n",
       "      <th>1414655283</th>\n",
       "      <td>0.304405</td>\n",
       "      <td>1.0</td>\n",
       "    </tr>\n",
       "    <tr>\n",
       "      <th>1414655290</th>\n",
       "      <td>0.314432</td>\n",
       "      <td>1.0</td>\n",
       "    </tr>\n",
       "    <tr>\n",
       "      <th>1414655296</th>\n",
       "      <td>0.314552</td>\n",
       "      <td>1.0</td>\n",
       "    </tr>\n",
       "    <tr>\n",
       "      <th>1414655303</th>\n",
       "      <td>0.315268</td>\n",
       "      <td>1.0</td>\n",
       "    </tr>\n",
       "    <tr>\n",
       "      <th>1414655309</th>\n",
       "      <td>0.028411</td>\n",
       "      <td>1.0</td>\n",
       "    </tr>\n",
       "    <tr>\n",
       "      <th>1414655315</th>\n",
       "      <td>0.031276</td>\n",
       "      <td>1.0</td>\n",
       "    </tr>\n",
       "  </tbody>\n",
       "</table>\n",
       "<p>47182 rows × 2 columns</p>\n",
       "</div>"
      ],
      "text/plain": [
       "            mainpower  washerpower\n",
       "time                              \n",
       "1357029778   0.334726          1.0\n",
       "1357029784   0.322430          1.0\n",
       "1357029790   0.324102          1.0\n",
       "1357029796   0.332219          1.0\n",
       "1357029802   0.328877          1.0\n",
       "1357029808   0.326609          1.0\n",
       "1357029814   0.321237          1.0\n",
       "1357029820   0.380327          1.0\n",
       "1357029826   0.525009          1.0\n",
       "1357029832   0.521428          1.0\n",
       "1357029838   0.522144          1.0\n",
       "1357029843   0.328996          1.0\n",
       "1357029849   0.324102          1.0\n",
       "1357029855   0.322311          1.0\n",
       "1357029861   0.331742          1.0\n",
       "1357029867   0.325534          1.0\n",
       "1357029873   0.325176          1.0\n",
       "1357029879   0.331503          1.0\n",
       "1357029885   0.331980          1.0\n",
       "1357029891   0.324699          1.0\n",
       "1357029897   0.323982          1.0\n",
       "1357029903   0.064104          1.0\n",
       "1357029910   0.063985          1.0\n",
       "1357043052   0.347977          1.0\n",
       "1357043058   0.339979          1.0\n",
       "1357043064   0.338665          1.0\n",
       "1357043070   0.338069          1.0\n",
       "1357043076   0.336994          1.0\n",
       "1357043082   0.335084          1.0\n",
       "1357043088   0.331742          1.0\n",
       "...               ...          ...\n",
       "1414655128   0.316939          1.0\n",
       "1414655134   0.317297          1.0\n",
       "1414655141   0.312642          1.0\n",
       "1414655147   0.315745          1.0\n",
       "1414655154   0.316342          1.0\n",
       "1414655160   0.311329          1.0\n",
       "1414655166   0.313597          1.0\n",
       "1414655173   0.318730          1.0\n",
       "1414655179   0.316342          1.0\n",
       "1414655186   0.548764          1.0\n",
       "1414655192   0.549123          1.0\n",
       "1414655199   0.547332          1.0\n",
       "1414655205   0.530620          1.0\n",
       "1414655211   0.540647          1.0\n",
       "1414655218   0.366002          1.0\n",
       "1414655224   0.304644          1.0\n",
       "1414655231   0.311806          1.0\n",
       "1414655237   0.310016          1.0\n",
       "1414655244   0.313836          1.0\n",
       "1414655250   0.312642          1.0\n",
       "1414655257   0.311209          1.0\n",
       "1414655264   0.304047          1.0\n",
       "1414655270   0.315387          1.0\n",
       "1414655276   0.319685          1.0\n",
       "1414655283   0.304405          1.0\n",
       "1414655290   0.314432          1.0\n",
       "1414655296   0.314552          1.0\n",
       "1414655303   0.315268          1.0\n",
       "1414655309   0.028411          1.0\n",
       "1414655315   0.031276          1.0\n",
       "\n",
       "[47182 rows x 2 columns]"
      ]
     },
     "execution_count": 15,
     "metadata": {},
     "output_type": "execute_result"
    }
   ],
   "source": [
    "washeron=tfdata1[tfdata1['washerpower']>0.5]\n",
    "washeroff=tfdata1[tfdata1['washerpower']<0.5]\n",
    "washeron"
   ]
  },
  {
   "cell_type": "code",
   "execution_count": 16,
   "metadata": {
    "collapsed": true
   },
   "outputs": [],
   "source": [
    "washeron=washeron.reset_index()\n",
    "washeroff=washeroff.reset_index()\n",
    "#washeron"
   ]
  },
  {
   "cell_type": "code",
   "execution_count": 17,
   "metadata": {
    "collapsed": true
   },
   "outputs": [],
   "source": [
    "#washeron['mainpower'][0]\n",
    "tfdata2=tfdata1"
   ]
  },
  {
   "cell_type": "code",
   "execution_count": 18,
   "metadata": {
    "collapsed": true
   },
   "outputs": [],
   "source": [
    "\n",
    "train_x_on=pd.Series(washeron.pop('mainpower'))\n",
    "train_y_on=pd.Series(washeron.pop('washerpower'))\n",
    "train_x_off=pd.Series(washeroff.pop('mainpower'))\n",
    "train_y_off=pd.Series(washeroff.pop('washerpower'))"
   ]
  },
  {
   "cell_type": "code",
   "execution_count": 19,
   "metadata": {
    "collapsed": true
   },
   "outputs": [],
   "source": [
    "#超参数\n",
    "\n",
    "#学习率learning rate\n",
    "lr=0.0001\n",
    "\n",
    "#循环次数\n",
    "training_iters=30000\n",
    "batch_size=16\n"
   ]
  },
  {
   "cell_type": "code",
   "execution_count": 20,
   "metadata": {
    "collapsed": true
   },
   "outputs": [],
   "source": [
    "n_inputs=1 #每一个时间步输入的是当前时刻的数值\n",
    "n_steps=128 #6秒一个数值，100个值就是大概10分钟\n",
    "n_hidden_units=128 #隐藏层单元数，这个不固定，可变动 （说明这个是单层rnn）\n",
    "n_classes=2 #分类的类数\n"
   ]
  },
  {
   "cell_type": "code",
   "execution_count": 21,
   "metadata": {},
   "outputs": [
    {
     "data": {
      "text/plain": [
       "time\n",
       "1357029778    0.334726\n",
       "1357029784    0.322430\n",
       "1357029790    0.324102\n",
       "1357029796    0.332219\n",
       "1357029802    0.328877\n",
       "1357029808    0.326609\n",
       "1357029814    0.321237\n",
       "1357029820    0.380327\n",
       "1357029826    0.525009\n",
       "1357029832    0.521428\n",
       "1357029838    0.522144\n",
       "1357029843    0.328996\n",
       "1357029849    0.324102\n",
       "1357029855    0.322311\n",
       "1357029861    0.331742\n",
       "1357029867    0.325534\n",
       "1357029873    0.325176\n",
       "1357029879    0.331503\n",
       "1357029885    0.331980\n",
       "1357029891    0.324699\n",
       "1357029897    0.323982\n",
       "1357029903    0.064104\n",
       "1357029910    0.063985\n",
       "Name: mainpower, dtype: float64"
      ]
     },
     "execution_count": 21,
     "metadata": {},
     "output_type": "execute_result"
    }
   ],
   "source": [
    "#tfdata2['mainpower'].loc[1352500095:1352560000].values\n",
    "p=tfdata2['mainpower'].loc[liststart[0]:listend[0]]\n",
    "p"
   ]
  },
  {
   "cell_type": "code",
   "execution_count": 22,
   "metadata": {},
   "outputs": [
    {
     "data": {
      "text/plain": [
       "144"
      ]
     },
     "execution_count": 22,
     "metadata": {},
     "output_type": "execute_result"
    }
   ],
   "source": [
    "t=listend[0]-liststart[0]\n",
    "t"
   ]
  },
  {
   "cell_type": "code",
   "execution_count": 23,
   "metadata": {},
   "outputs": [
    {
     "data": {
      "text/plain": [
       "0"
      ]
     },
     "execution_count": 23,
     "metadata": {},
     "output_type": "execute_result"
    }
   ],
   "source": [
    "long=(listend[0]-liststart[0])\n",
    "many=int(130*6-long)\n",
    "\n",
    "pp=tfdata2['mainpower'].loc[liststart[0]:listend[0]]\n",
    "#pp.index.size\n",
    "#pp.index[0]\n",
    "\n",
    "#这句十分重要，找到电器开始用的一个在总数据里的那一行（用where函数），然后第一个[0]获取到的是行号数组，由于只需要第一个（也只有一个），所以\n",
    "#用了第二个[0]来获得其行号，然后就可以利用iloc函数来获取之后的指定个数的行\n",
    "#np.where(tfdata2.index==pp.index[0])[0][0]\n",
    "#endline=np.where(tfdata2.index==(pp.index[0]+1))[0][0]\n",
    "t=np.where(tfdata2.index==(pp.index[0]+1))[0]\n",
    "t.size"
   ]
  },
  {
   "cell_type": "code",
   "execution_count": 27,
   "metadata": {
    "collapsed": true
   },
   "outputs": [],
   "source": [
    "def X_on(elec_long,start,end,jianju):#start和end是电器开和关的数组，可能是kettle有可能是washer等。jianju是一个整数，代表每个开关时间内\n",
    "    #数据抽取的偏移量，对于kettle，数据较多，抽的间隔可以大些，可取3.数据量较少的可选1（最少）\n",
    "    t=0\n",
    "   \n",
    "    \n",
    "   # p=tfdata2['mainpower'].loc[liststart[0]:(liststart[0]+130)].values.reshape((1,elec_long))\n",
    "    \n",
    "    x_on=np.arange(elec_long).reshape(1,elec_long)\n",
    "    print(len(start))\n",
    "    while t<len(start):\n",
    "        long=(end[t]-start[t])\n",
    "        pp=tfdata2['mainpower'].loc[start[t]:end[t]]\n",
    "        if pp.size>0:\n",
    "            size=pp.size\n",
    "            if size<elec_long:\n",
    "                many=int(elec_long-size)\n",
    "                tt=np.where(tfdata2.index==pp.index[0])[0]\n",
    "                if tt.size>0:\n",
    "                    endline=tt[0]#liststart所在的行就是最后的起始行。\n",
    "            \n",
    "                    startline=endline-(elec_long-size)\n",
    "           \n",
    "            #qq=pd.DataFrame({'temp':pp})\n",
    "                    while startline<=endline:\n",
    "                \n",
    "                        x_on=np.row_stack((x_on,tfdata2['mainpower'].iloc[startline:(startline+elec_long)].values.reshape((1,elec_long))))\n",
    "                        startline+=jianju\n",
    "            else:\n",
    "                startline=np.where(tfdata2.index==pp.index[0])[0][0]\n",
    "                endline=startline+(size-elec_long)\n",
    "                while startline<=endline:\n",
    "                \n",
    "                    x_on=np.row_stack((x_on,tfdata2['mainpower'].iloc[startline:startline+elec_long].values.reshape((1,elec_long))))\n",
    "                    startline+=jianju\n",
    "        if t%500==0:\n",
    "            print(t)\n",
    "        t+=1\n",
    "    return x_on\n",
    "            \n",
    "            \n",
    "            "
   ]
  },
  {
   "cell_type": "code",
   "execution_count": 24,
   "metadata": {
    "collapsed": true
   },
   "outputs": [],
   "source": [
    "featureson=  np.loadtxt(\"featureson.txt\")\n"
   ]
  },
  {
   "cell_type": "code",
   "execution_count": 25,
   "metadata": {},
   "outputs": [
    {
     "data": {
      "text/plain": [
       "(112542, 128)"
      ]
     },
     "execution_count": 25,
     "metadata": {},
     "output_type": "execute_result"
    }
   ],
   "source": [
    "featureson.shape"
   ]
  },
  {
   "cell_type": "code",
   "execution_count": 30,
   "metadata": {
    "collapsed": true
   },
   "outputs": [],
   "source": [
    "#featureson=X_on(128,liststart,listend,3)"
   ]
  },
  {
   "cell_type": "code",
   "execution_count": 31,
   "metadata": {
    "scrolled": true
   },
   "outputs": [
    {
     "name": "stdout",
     "output_type": "stream",
     "text": [
      "15794\n",
      "0\n",
      "500\n",
      "1000\n",
      "1500\n",
      "2000\n",
      "2500\n",
      "3000\n",
      "3500\n",
      "4000\n",
      "4500\n",
      "5000\n",
      "5500\n",
      "6000\n",
      "6500\n",
      "7000\n",
      "7500\n",
      "8000\n",
      "8500\n",
      "9000\n",
      "9500\n",
      "10000\n",
      "10500\n",
      "11000\n",
      "11500\n",
      "12000\n",
      "12500\n",
      "13000\n",
      "13500\n",
      "14000\n",
      "14500\n",
      "15000\n",
      "15500\n"
     ]
    }
   ],
   "source": [
    "#kettleOff_WasherOn=X_on(128,washerstart,washerend,10)"
   ]
  },
  {
   "cell_type": "code",
   "execution_count": 32,
   "metadata": {},
   "outputs": [
    {
     "name": "stdout",
     "output_type": "stream",
     "text": [
      "(180964, 128)\n"
     ]
    }
   ],
   "source": [
    "np.delete(kettleOff_WasherOn,0,axis=0)\n",
    "print(kettleOff_WasherOn.shape)\n",
    "np.savetxt(\"kettleOff_FridgeOn.txt\",kettleOff_WasherOn)"
   ]
  },
  {
   "cell_type": "code",
   "execution_count": null,
   "metadata": {
    "collapsed": true
   },
   "outputs": [],
   "source": [
    "featureson"
   ]
  },
  {
   "cell_type": "code",
   "execution_count": 31,
   "metadata": {},
   "outputs": [
    {
     "data": {
      "text/plain": [
       "array([[ 0.02650113,  0.02662051,  0.02638176, ...,  0.32398233,\n",
       "         0.06410409,  0.06398472],\n",
       "       [ 0.02602364,  0.02614301,  0.02673988, ...,  0.06255223,\n",
       "         0.06231348,  0.0617166 ],\n",
       "       [ 0.02662051,  0.02662051,  0.02590426, ...,  0.06386535,\n",
       "         0.06135848,  0.06374597],\n",
       "       ..., \n",
       "       [ 0.03819983,  0.03796108,  0.03891608, ...,  0.02041304,\n",
       "         0.02124866,  0.0168318 ],\n",
       "       [ 0.03449922,  0.03151486,  0.0346186 , ...,  0.01886117,\n",
       "         0.02100991,  0.02208428],\n",
       "       [ 0.0341411 ,  0.03628984,  0.03640922, ...,  0.02136803,\n",
       "         0.01707055,  0.01874179]])"
      ]
     },
     "execution_count": 31,
     "metadata": {},
     "output_type": "execute_result"
    }
   ],
   "source": [
    "np.delete(featureson,0,axis=0)\n",
    "featureson.shape\n",
    "np.savetxt(\"featuresonwasher.txt\",featureson)"
   ]
  },
  {
   "cell_type": "code",
   "execution_count": 32,
   "metadata": {
    "collapsed": true
   },
   "outputs": [],
   "source": [
    "#featureson=np.ones((train_x_on.size-train_x_on.size%n_steps-n_steps,n_steps))#train_x_on.size-n_steps\n",
    "#long=train_x_on.size-train_x_on.size%n_steps-n_steps\n",
    "#drop=0\n",
    "#while drop<long:\n",
    "#    temp=random.randint(0,long-1)\n",
    "#    featureson[drop,:]=train_x_on[drop:(drop+n_steps)].values.reshape((1,n_steps))\n",
    "#    drop+=1"
   ]
  },
  {
   "cell_type": "code",
   "execution_count": 33,
   "metadata": {
    "collapsed": true
   },
   "outputs": [],
   "source": [
    "#Y1=np.zeros((train_x_on.size-train_x_on.size%n_steps-n_steps,2),dtype=np.int)\n",
    "#Y1[:,0]=1\n",
    "\n",
    "#dataseton = tf.data.Dataset.from_tensor_slices((featureson,Y1))\n",
    "#datasetton=dataseton.shuffle(50000)\n",
    "#datasetton=datasetton.repeat()\n",
    "#batched_dataseton=datasetton.batch(batch_size)\n",
    "#iteratoron=batched_dataseton.make_one_shot_iterator()\n",
    "#next_elementon=iteratoron.get_next()\n"
   ]
  },
  {
   "cell_type": "code",
   "execution_count": 25,
   "metadata": {
    "collapsed": true
   },
   "outputs": [],
   "source": [
    "#size为关的数据里需要用其他大电器开的时候的条数\n",
    "def OtherElec(size):\n",
    "    kettleoff_washeron=np.loadtxt(\"kettleOff_WasherOn.txt\")\n",
    "    kettleoff_fridgeon=np.loadtxt(\"kettleOff_FridgeOn.txt\")\n",
    "    t=int(size/2)\n",
    "    np.random.shuffle(kettleoff_washeron)\n",
    "    np.random.shuffle(kettleoff_fridgeon)\n",
    "    kettleoff_washeron=kettleoff_washeron[0:t,:]\n",
    "    kettleoff_fridgeon=kettleoff_fridgeon[0:t,:]\n",
    "    off=np.vstack((kettleoff_washeron,kettleoff_fridgeon))\n",
    "    return off\n"
   ]
  },
  {
   "cell_type": "code",
   "execution_count": 26,
   "metadata": {
    "collapsed": true
   },
   "outputs": [],
   "source": [
    "off=OtherElec(55000)"
   ]
  },
  {
   "cell_type": "code",
   "execution_count": 27,
   "metadata": {},
   "outputs": [
    {
     "data": {
      "text/plain": [
       "array([[ 0.03545422,  0.03557359,  0.03533485, ...,  0.03963233,\n",
       "         0.03939358,  0.03939358],\n",
       "       [ 0.0631491 ,  0.0621941 ,  0.06338785, ...,  0.06720783,\n",
       "         0.06720783,  0.06708846],\n",
       "       [ 0.32362421,  0.32159484,  0.31932673, ...,  0.04440731,\n",
       "         0.04440731,  0.04464605],\n",
       "       ..., \n",
       "       [ 0.02506864,  0.02459114,  0.02471052, ...,  0.02471052,\n",
       "         0.02506864,  0.02506864],\n",
       "       [ 0.02065178,  0.02100991,  0.02089053, ...,  0.02089053,\n",
       "         0.02065178,  0.02136803],\n",
       "       [ 0.02864987,  0.02841113,  0.0285305 , ...,  0.02924675,\n",
       "         0.02793363,  0.02864987]])"
      ]
     },
     "execution_count": 27,
     "metadata": {},
     "output_type": "execute_result"
    }
   ],
   "source": [
    "off"
   ]
  },
  {
   "cell_type": "code",
   "execution_count": 28,
   "metadata": {
    "collapsed": true
   },
   "outputs": [],
   "source": [
    "def randomoff(size):\n",
    "    featuresoff=np.ones((size,n_steps))#train_x_off.size-n_steps,n_steps\n",
    "#long=train_x_off.size-train_x_off.size%n_steps-n_steps\n",
    "    drop=0\n",
    "    while drop<size:\n",
    "        if(drop%10000==0):\n",
    "            print(drop)\n",
    "        featuresoff[drop,:]=np.zeros((1,n_steps))\n",
    "        temp=random.randint(0,long-1)\n",
    "        featuresoff[drop,:]=train_x_off[temp:(temp+n_steps)].values.reshape((1,n_steps))\n",
    "        drop+=1\n",
    "    return featuresoff"
   ]
  },
  {
   "cell_type": "code",
   "execution_count": 29,
   "metadata": {
    "collapsed": true
   },
   "outputs": [],
   "source": [
    "#featuresoff=np.ones((55000,n_steps))#train_x_off.size-n_steps,n_steps\n",
    "##long=train_x_off.size-train_x_off.size%n_steps-n_steps\n",
    "#drop=0\n",
    "#while drop<50000:\n",
    "#    if(drop%10000==0):\n",
    "#        print(drop)\n",
    "#    featuresoff[drop,:]=np.zeros((1,n_steps))\n",
    "#    temp=random.randint(0,long-1)\n",
    "#    featuresoff[drop,:]=train_x_off[temp:(temp+n_steps)].values.reshape((1,n_steps))\n",
    "#    drop+=1\n",
    "#featuresoff"
   ]
  },
  {
   "cell_type": "code",
   "execution_count": 30,
   "metadata": {},
   "outputs": [
    {
     "name": "stdout",
     "output_type": "stream",
     "text": [
      "0\n",
      "10000\n",
      "20000\n",
      "30000\n",
      "40000\n",
      "50000\n"
     ]
    }
   ],
   "source": [
    "featuresoff=randomoff(55000)"
   ]
  },
  {
   "cell_type": "code",
   "execution_count": 31,
   "metadata": {
    "collapsed": true
   },
   "outputs": [],
   "source": [
    "#Y2=np.zeros((100000,2),dtype=np.int)\n",
    "#Y2[:,1]=1\n",
    "\n",
    "#datasetoff = tf.data.Dataset.from_tensor_slices((featuresoff,Y2))\n",
    "#datasettoff=datasetoff.shuffle(250000)\n",
    "#datasettoff=datasettoff.repeat()\n",
    "#batched_datasetoff=datasettoff.batch(batch_size)\n",
    "#iteratoroff=batched_datasetoff.make_one_shot_iterator()\n",
    "#next_elementoff=iteratoroff.get_next()"
   ]
  },
  {
   "cell_type": "code",
   "execution_count": 32,
   "metadata": {},
   "outputs": [
    {
     "data": {
      "text/plain": [
       "(110000, 128)"
      ]
     },
     "execution_count": 32,
     "metadata": {},
     "output_type": "execute_result"
    }
   ],
   "source": [
    "featuresoff=np.vstack((off,featuresoff))\n",
    "featuresoff.shape"
   ]
  },
  {
   "cell_type": "code",
   "execution_count": 33,
   "metadata": {},
   "outputs": [
    {
     "data": {
      "text/plain": [
       "array([[  0.00000000e+00,   1.00000000e+00,   2.00000000e+00, ...,\n",
       "          1.25000000e+02,   1.26000000e+02,   1.27000000e+02],\n",
       "       [  2.65011341e-02,   2.66205085e-02,   2.63817596e-02, ...,\n",
       "          3.23982333e-01,   6.41040945e-02,   6.39847201e-02],\n",
       "       [  2.60236361e-02,   2.61430106e-02,   2.67398830e-02, ...,\n",
       "          6.25522263e-02,   6.23134774e-02,   6.17166050e-02],\n",
       "       ..., \n",
       "       [  5.12116509e-02,   4.93016593e-02,   4.90629103e-02, ...,\n",
       "          3.59317178e-02,   3.56929688e-02,   3.54542199e-02],\n",
       "       [  5.74191238e-02,   5.70610004e-02,   5.77772472e-02, ...,\n",
       "          4.54816760e-02,   3.35442282e-02,   3.42604751e-02],\n",
       "       [  1.02423302e-01,   1.01229557e-01,   8.75014922e-02, ...,\n",
       "          3.62898412e-02,   3.56929688e-02,   3.58123433e-02]])"
      ]
     },
     "execution_count": 33,
     "metadata": {},
     "output_type": "execute_result"
    }
   ],
   "source": [
    "X=np.vstack([featureson,featuresoff])\n",
    "X\n",
    "#X.shape"
   ]
  },
  {
   "cell_type": "code",
   "execution_count": 34,
   "metadata": {},
   "outputs": [
    {
     "name": "stdout",
     "output_type": "stream",
     "text": [
      "[[0 1]\n",
      " [0 1]\n",
      " [0 1]\n",
      " ..., \n",
      " [1 0]\n",
      " [1 0]\n",
      " [1 0]]\n"
     ]
    }
   ],
   "source": [
    "#la=np.zeros((train_x_on.size-train_x_on.size%n_steps-n_steps,1),dtype=np.int)\n",
    "#lb=np.ones((train_x_on.size-train_x_on.size%n_steps-n_steps,1),dtype=np.int)\n",
    "la=np.zeros((featureson.shape[0],1),dtype=np.int)\n",
    "lb=np.ones((featureson.shape[0],1),dtype=np.int)\n",
    "lc=np.hstack((la,lb))\n",
    "\n",
    "ld=np.zeros((110000,1),dtype=np.int)\n",
    "le=np.ones((110000,1),dtype=np.int)\n",
    "lf=np.hstack((le,ld))\n",
    "Y=np.vstack((lc,lf))\n",
    "print(Y)"
   ]
  },
  {
   "cell_type": "code",
   "execution_count": 35,
   "metadata": {},
   "outputs": [
    {
     "name": "stdout",
     "output_type": "stream",
     "text": [
      "(TensorShape([Dimension(128)]), TensorShape([Dimension(2)]))\n",
      "(tf.float64, tf.int32)\n"
     ]
    }
   ],
   "source": [
    "\n",
    "\n",
    "dataset = tf.data.Dataset.from_tensor_slices((X,Y))\n",
    "datasett=dataset.shuffle(200000)\n",
    "print(datasett.output_shapes)\n",
    "print(datasett.output_types)\n",
    "datasett=datasett.repeat()\n",
    "batched_dataset=datasett.batch(batch_size)\n",
    "iterator=batched_dataset.make_one_shot_iterator()\n",
    "next_element=iterator.get_next()"
   ]
  },
  {
   "cell_type": "code",
   "execution_count": 36,
   "metadata": {
    "collapsed": true
   },
   "outputs": [],
   "source": [
    "sess=tf.Session()"
   ]
  },
  {
   "cell_type": "code",
   "execution_count": 38,
   "metadata": {
    "collapsed": true
   },
   "outputs": [],
   "source": [
    "def input_X(batch_size,steps,inputs):\n",
    "    #t=random.random()\n",
    "    #train_x=0\n",
    "    Y=0\n",
    "    halfbatch_size=int(batch_size/2)\n",
    "   \n",
    "    #if t>0.5:\n",
    "    #    train_x=train_x_on\n",
    "    #    t=1\n",
    "    #    Y1=np.zeros((batch_size,2),dtype=np.int)\n",
    "    #    Y[:,0]=1\n",
    "    Y1=np.zeros((halfbatch_size,2),dtype=np.int)\n",
    "    Y1[:,0]=1\n",
    "    #else:\n",
    "        #train_x=train_x_off\n",
    "        #t=0\n",
    "        #Y=np.zeros((batch_size,2),dtype=np.int)\n",
    "        #Y[:,1]=1\n",
    "    Y2=np.zeros((halfbatch_size,2),dtype=np.int)\n",
    "    Y2[:,1]=1\n",
    "    \n",
    "        #Y=np.zeros(batch_size * steps * inputs,np.int8)\n",
    "    #这句是生成了一个100维的随机数，每个随机数代表一个X的开始的下标，往后数100。共batch_size个\n",
    "    #startpoint=np.random.randint(0,train_x.size-100-1，size=batch_size)\n",
    "    startpoint1=np.random.randint(0,train_x_on.size-steps-1,size=halfbatch_size)\n",
    "    startpoint2=np.random.randint(0,train_x_off.size-steps-1,size=halfbatch_size)\n",
    "    #减100是每个X是100个数，以后改别用硬编码。减1是此函数不包括high\n",
    "    #train_x[startpoint[i]:startpoint[i]+100]\n",
    "    \n",
    "    X=np.arange(batch_size * steps *inputs).reshape(batch_size,steps,inputs)\n",
    "    \n",
    "   # y=train_x[startpoint[drop]:(startpoint[drop]+100)].values.reshape((100,1))\n",
    "     \n",
    "    long=batch_size\n",
    "    drop=0\n",
    "    #print(train_x_on[1357029778])\n",
    "    while drop<halfbatch_size:\n",
    "        X[drop,:,:]=np.ones((steps,inputs))*100\n",
    "        #X[drop,:,:]=train_x_on[startpoint1[drop]:(startpoint1[drop]+steps)].values.reshape((steps,1))\n",
    "        drop+=1\n",
    "        \n",
    "    \n",
    "    drop=halfbatch_size\n",
    "    while drop<long:\n",
    "        X[drop,:,:]=np.ones((steps,inputs))*10\n",
    "        #X[drop,:,:]=train_x_off[startpoint2[drop-halfbatch_size]:(startpoint2[drop-halfbatch_size]+steps)].values.reshape((steps,1))\n",
    "        #X[drop,:,:]=train_x_off[startpoint2[drop-halfbatch_size]:(startpoint2[drop-halfbatch_size]+100)].values.reshape((100,1))\n",
    "        drop+=1\n",
    "    Y=np.vstack((Y1,Y2))\n",
    "    #permutation = np.random.permutation(Y.shape[0])\n",
    "    #X = X[permutation, :, :]\n",
    "    #Y = Y[permutation]\n",
    "    \n",
    "    return X,Y\n",
    "   \n",
    "   "
   ]
  },
  {
   "cell_type": "code",
   "execution_count": 39,
   "metadata": {
    "collapsed": true
   },
   "outputs": [],
   "source": [
    "#x,y=input_X(128,1500,1)#x即为RNN函数里需要的参数X\n",
    "#x[0],y[0]\n"
   ]
  },
  {
   "cell_type": "code",
   "execution_count": 40,
   "metadata": {
    "collapsed": true
   },
   "outputs": [],
   "source": [
    "#train_x_on[43755]"
   ]
  },
  {
   "cell_type": "code",
   "execution_count": 41,
   "metadata": {
    "collapsed": true
   },
   "outputs": [],
   "source": [
    "def train_input_fn(features, labels, batch_size):\n",
    "    \"\"\"An input function for training\"\"\"\n",
    "    # Convert the inputs to a Dataset.\n",
    "    dataset = tf.data.Dataset.from_tensor_slices((dict(features), labels))\n",
    "\n",
    "    # Shuffle, repeat, and batch the examples.\n",
    "    dataset = dataset.shuffle(1000).repeat().batch(batch_size)\n",
    "\n",
    "    # Build the Iterator, and return the read end of the pipeline.\n",
    "    return dataset.make_one_shot_iterator().get_next()"
   ]
  },
  {
   "cell_type": "code",
   "execution_count": 42,
   "metadata": {
    "collapsed": true
   },
   "outputs": [],
   "source": [
    "#导入数据集"
   ]
  },
  {
   "cell_type": "code",
   "execution_count": 37,
   "metadata": {
    "scrolled": true
   },
   "outputs": [
    {
     "name": "stdout",
     "output_type": "stream",
     "text": [
      "0.625\n",
      "0.6875\n",
      "0.5625\n",
      "0.75\n",
      "0.875\n",
      "0.875\n",
      "0.625\n",
      "0.75\n",
      "1.0\n",
      "0.9375\n",
      "0.875\n",
      "1.0\n",
      "0.875\n",
      "1.0\n",
      "1.0\n",
      "1.0\n",
      "0.875\n",
      "0.8125\n",
      "0.9375\n",
      "0.875\n",
      "1.0\n",
      "1.0\n",
      "0.9375\n",
      "1.0\n",
      "0.9375\n",
      "1.0\n",
      "0.9375\n",
      "0.9375\n",
      "1.0\n",
      "0.9375\n",
      "0.9375\n",
      "1.0\n",
      "0.9375\n",
      "0.9375\n"
     ]
    }
   ],
   "source": [
    "with tf.name_scope('inputs'):  #input\n",
    "    x = tf.placeholder(tf.float32,[None,n_steps,n_inputs],name='x_inputs')  #得到传递进来的训练样本 \n",
    "    y = tf.placeholder(tf.float32,[None,n_classes],name='y_inputs') #标签\n",
    "    weights=\\\n",
    "    {\n",
    "        'in':tf.Variable(tf.random_normal([n_inputs,n_hidden_units]),name='weights'), #从样本进行输入\n",
    "        'out':tf.Variable(tf.random_normal([n_hidden_units,n_classes]),name='weights1') #输出至隐藏层\n",
    "    }\n",
    "    biases=\\\n",
    "    { #偏置\n",
    "        'in':tf.Variable(tf.constant(0.1,shape=[n_hidden_units,]),name='biases'), #(128,)\n",
    "        'out':tf.Variable(tf.constant(0.1,shape=[n_classes,]),name='biases1') #(2,)\n",
    "    }\n",
    "\n",
    "def RNN(X,weights,biases):#X（128batch,1steps,100inputs）\n",
    "    with tf.name_scope('layer'):\n",
    "        X = tf.reshape(X,[-1,n_inputs]) #重置为128*28,28的向量\n",
    "        X_in = tf.matmul(X,weights['in'])+biases['in'] #X与weight矩阵乘，加偏置\n",
    "        X_in = tf.reshape(X_in,[-1,n_steps,n_hidden_units]) #变换形式，置为n*28*128向量\n",
    "        tf.summary.histogram('X_in', X_in) #储存结果\n",
    "        #cell\n",
    "    with tf.name_scope('cell'):\n",
    "        lstm_cell = tf.contrib.rnn.BasicLSTMCell(n_hidden_units,forget_bias=1.0, state_is_tuple=True) #该层128个cell，偏置 = 1\n",
    "        _init_state = lstm_cell.zero_state(batch_size,dtype=tf.float32) #初始化\n",
    "        with tf.variable_scope(\"rnn\",reuse=tf.AUTO_REUSE):\n",
    "            outputs,states = tf.nn.dynamic_rnn(lstm_cell,X_in,initial_state=_init_state,time_major=False) #输入至cell中\n",
    "        tf.summary.histogram('outsputs', outputs) #储存输出和状态\n",
    "        tf.summary.histogram('outsputs', states)\n",
    "        #输出层\n",
    "    with tf.name_scope('result'):\n",
    "        result = tf.matmul(states[1],weights['out'])+biases['out'] #计算结果，将状态与权重（出）相乘，加偏置（出）\n",
    "        tf.summary.histogram('result', result)\n",
    "        return result\n",
    "\n",
    "pred = RNN(x,weights,biases) #调用RNN进行预测\n",
    "\n",
    "with tf.name_scope('loss'):\n",
    "    cost = tf.reduce_mean(tf.nn.softmax_cross_entropy_with_logits(labels=y,logits=pred),name='loss') #求平均值 交叉熵（训练成本）cost\n",
    "    tf.summary.scalar('loss', cost)\n",
    "with tf.name_scope('train'):  #进行优化\n",
    "    train_op = tf.train.AdamOptimizer(lr).minimize(cost) #以lr为学习速度最小化cost   ？？？？？？？？？？？\n",
    "\n",
    "correct_pred = tf.equal(tf.argmax(pred,1),tf.argmax(y,1)) #比较预测结果和正确答案是否相等，结果为向量\n",
    "accurary = tf.reduce_mean(tf.cast(correct_pred,tf.float32)) #将correct_pred转化为float32类型，求均值\n",
    "tf.summary.scalar('accurary', accurary)\n",
    "init = tf.global_variables_initializer()\n",
    "saver = tf.train.Saver() #保存模型参数\n",
    "with tf.Session() as sess: #将sess指向要处理的地方\n",
    "    merged = tf.summary.merge_all()\n",
    "    writer = tf.summary.FileWriter(\"logs1/\", sess.graph) #打开写文件指针，准备记录\n",
    "    sess.run(init) #激活，开始训练\n",
    "    step=0\n",
    "    while step<1000:\n",
    "                    # step*batch_size<training_iters:\n",
    "        t=random.random()\n",
    "        \n",
    "        batch_xs,batch_ys = sess.run(next_element) #再取下一个batch块，返回image和label\n",
    "        \n",
    "        batch_xs = batch_xs.reshape([batch_size,n_steps,n_inputs]) #同之前操作\n",
    "        #if step%30==0:\n",
    "        #    print(batch_xs,batch_ys)\n",
    "        sess.run(train_op,feed_dict={x:batch_xs,y:batch_ys})\n",
    "        if step%30==0: #每100步，进行一次记录\n",
    "            res = sess.run(merged,feed_dict={x:batch_xs,y:batch_ys}) #管理数据\n",
    "            writer.add_summary(res,step) #记录当前步数和数据\n",
    "            print(sess.run(accurary,feed_dict={x:batch_xs,y:batch_ys})) #正确率\n",
    "        step += 1\n",
    "    save_path = saver.save(sess, \"my_net1\\save_net.ckpt\")"
   ]
  },
  {
   "cell_type": "code",
   "execution_count": 101,
   "metadata": {},
   "outputs": [
    {
     "name": "stdout",
     "output_type": "stream",
     "text": [
      "[[ 0.02650113  0.02662051  0.02638176  0.02602364  0.02614301  0.02673988\n",
      "   0.02662051  0.02662051  0.02590426  0.02638176  0.02602364  0.02602364\n",
      "   0.02626239  0.02638176  0.02518801  0.02506864  0.02506864  0.02542676\n",
      "   0.02459114  0.02459114  0.02494927  0.02435239  0.02494927  0.02494927\n",
      "   0.02471052  0.02471052  0.02471052  0.02506864  0.02435239  0.02506864\n",
      "   0.02447177  0.0238749   0.02494927  0.02506864  0.02435239  0.02435239\n",
      "   0.02447177  0.0238749   0.02375552  0.02482989  0.02375552  0.02435239\n",
      "   0.02721738  0.02673988  0.02697863  0.02733676  0.02590426  0.02817238\n",
      "   0.028053    0.02685926  0.02626239  0.02709801  0.02614301  0.02662051\n",
      "   0.02542676  0.02530739  0.02518801  0.02423302  0.02542676  0.02482989\n",
      "   0.02411364  0.02435239  0.02447177  0.02435239  0.02435239  0.0229199\n",
      "   0.0233974   0.02303927  0.05013728  0.05013728  0.0504954   0.05001791\n",
      "   0.05037603  0.04989853  0.05001791  0.05037603  0.04810791  0.04870479\n",
      "   0.04906291  0.04906291  0.04870479  0.04989853  0.05073415  0.05085353\n",
      "   0.05061478  0.05013728  0.0509729   0.05013728  0.05001791  0.05073415\n",
      "   0.05013728  0.05061478  0.05013728  0.05061478  0.05109228  0.0463173\n",
      "   0.04619792  0.0692372   0.06708846  0.0678047   0.06613346  0.06565596\n",
      "   0.06649158  0.06720783  0.06649158  0.33472604  0.32243046  0.32410171\n",
      "   0.33221917  0.32887669  0.32660857  0.32123672  0.38032709  0.52500895\n",
      "   0.52142772  0.52214397  0.32899606  0.32410171  0.32231109  0.33174167\n",
      "   0.3255342   0.32517608  0.33150292  0.33198042  0.32469858  0.32398233\n",
      "   0.06410409  0.06398472]\n",
      " [ 0.02602364  0.02614301  0.02673988  0.02662051  0.02662051  0.02590426\n",
      "   0.02638176  0.02602364  0.02602364  0.02626239  0.02638176  0.02518801\n",
      "   0.02506864  0.02506864  0.02542676  0.02459114  0.02459114  0.02494927\n",
      "   0.02435239  0.02494927  0.02494927  0.02471052  0.02471052  0.02471052\n",
      "   0.02506864  0.02435239  0.02506864  0.02447177  0.0238749   0.02494927\n",
      "   0.02506864  0.02435239  0.02435239  0.02447177  0.0238749   0.02375552\n",
      "   0.02482989  0.02375552  0.02435239  0.02721738  0.02673988  0.02697863\n",
      "   0.02733676  0.02590426  0.02817238  0.028053    0.02685926  0.02626239\n",
      "   0.02709801  0.02614301  0.02662051  0.02542676  0.02530739  0.02518801\n",
      "   0.02423302  0.02542676  0.02482989  0.02411364  0.02435239  0.02447177\n",
      "   0.02435239  0.02435239  0.0229199   0.0233974   0.02303927  0.05013728\n",
      "   0.05013728  0.0504954   0.05001791  0.05037603  0.04989853  0.05001791\n",
      "   0.05037603  0.04810791  0.04870479  0.04906291  0.04906291  0.04870479\n",
      "   0.04989853  0.05073415  0.05085353  0.05061478  0.05013728  0.0509729\n",
      "   0.05013728  0.05001791  0.05073415  0.05013728  0.05061478  0.05013728\n",
      "   0.05061478  0.05109228  0.0463173   0.04619792  0.0692372   0.06708846\n",
      "   0.0678047   0.06613346  0.06565596  0.06649158  0.06720783  0.06649158\n",
      "   0.33472604  0.32243046  0.32410171  0.33221917  0.32887669  0.32660857\n",
      "   0.32123672  0.38032709  0.52500895  0.52142772  0.52214397  0.32899606\n",
      "   0.32410171  0.32231109  0.33174167  0.3255342   0.32517608  0.33150292\n",
      "   0.33198042  0.32469858  0.32398233  0.06410409  0.06398472  0.06255223\n",
      "   0.06231348  0.0617166 ]]\n"
     ]
    }
   ],
   "source": [
    "t=featuresoff[1:17,:]\n",
    "print(featureson[1:3,:])\n",
    "#t.dtype='float32'  用dtype数据会翻倍，坑。要用astype\n",
    "t=t.astype(np.float32)\n",
    "\n",
    "t=t.reshape([batch_size,n_steps,n_inputs])\n",
    "\n",
    "#t.shape\n",
    "#t.dtype='float32'\n",
    "\n",
    "\n",
    "k=RNN(t,weights,biases)\n"
   ]
  },
  {
   "cell_type": "code",
   "execution_count": 102,
   "metadata": {},
   "outputs": [
    {
     "name": "stdout",
     "output_type": "stream",
     "text": [
      "INFO:tensorflow:Restoring parameters from my_net1\\save_net.ckpt\n",
      "[0 1 0 0 0 1 1 0 0 0 0 0 0 1 0 0]\n"
     ]
    }
   ],
   "source": [
    "with tf.Session() as sess:\n",
    "    saver.restore(sess,\"my_net1\\save_net.ckpt\")\n",
    "    print(sess.run(tf.argmax(k,1)))"
   ]
  },
  {
   "cell_type": "code",
   "execution_count": 92,
   "metadata": {},
   "outputs": [
    {
     "name": "stdout",
     "output_type": "stream",
     "text": [
      "{'in': array([[-0.22301418, -0.28228137,  1.67092085, -0.10127473,  0.40685037,\n",
      "         0.33482829, -0.89694828, -2.39676714, -0.53803492,  1.0565033 ,\n",
      "         2.45305538, -0.75428236, -1.01103199, -1.85562456,  0.00968082,\n",
      "         0.24177141,  0.04019673,  0.83512115, -0.95289075, -1.10424519,\n",
      "        -1.440817  ,  1.22122037, -0.79013252, -0.30911237,  0.43137267,\n",
      "         0.02650001,  0.40482971, -0.0869715 , -2.55952048,  0.65558529,\n",
      "         0.22949573,  1.64180207,  1.22409666, -0.67313248,  0.47240719,\n",
      "         0.27487037,  2.16365361, -0.18618874,  0.81609201,  0.72237033,\n",
      "         0.07519566,  0.15769112, -0.46915218, -1.68192053, -0.49305066,\n",
      "        -0.12250368, -1.76378548, -1.24131811,  0.41829026,  0.13886134,\n",
      "         0.07300776,  2.66249704,  0.36467999,  0.85094351, -0.82736737,\n",
      "         0.39196113, -1.30968261, -0.24539427, -0.65627414, -1.16519213,\n",
      "         0.20964228,  1.84412026, -0.12609755, -0.59118056, -0.28446954,\n",
      "        -2.11477923, -0.43354607, -0.13333574,  0.30525169, -2.03826094,\n",
      "        -0.74354976,  0.88323808, -1.52521598,  0.35686687, -1.90504217,\n",
      "         0.83802676,  0.90985864, -0.21194041,  1.22979569, -2.27684355,\n",
      "        -2.5219481 ,  0.08901307, -0.40667501,  1.0673759 , -1.32573199,\n",
      "        -0.36418551, -0.21712171, -0.33237347,  0.92778772, -0.94349605,\n",
      "         0.07452928,  1.78637123, -0.93958318, -0.30966201, -1.23728549,\n",
      "         0.24954857, -1.67327917,  1.36199629, -0.53878134, -0.27401602,\n",
      "        -1.22749102,  0.81795382,  0.32463786, -0.92223531,  1.25912309,\n",
      "        -1.80767882,  0.40340808,  0.09802242,  1.27681482,  0.12774871,\n",
      "        -0.47177148, -0.25480288, -0.80983281,  0.31236801,  0.23625708,\n",
      "         1.48643076, -0.89269584, -1.79985297, -0.5335604 ,  0.45203131,\n",
      "        -0.94410229,  0.41590434, -0.77267575, -0.16335544, -2.05508018,\n",
      "         0.20452595,  0.50423324,  1.98147905]], dtype=float32), 'out': array([[ -8.02222639e-02,   1.61076322e-01],\n",
      "       [  6.98009849e-01,   6.78105116e-01],\n",
      "       [  8.15089941e-01,  -4.46715832e-01],\n",
      "       [  1.75751522e-01,   1.06067169e+00],\n",
      "       [  9.42898691e-01,  -9.17663395e-01],\n",
      "       [  9.22672898e-02,  -8.61146271e-01],\n",
      "       [  8.05093288e-01,  -2.71625131e-01],\n",
      "       [ -1.63122471e-02,   6.36932850e-01],\n",
      "       [ -2.02529955e+00,  -2.12613869e+00],\n",
      "       [  9.07178700e-01,   5.61947286e-01],\n",
      "       [  1.08920336e+00,   1.19439495e+00],\n",
      "       [  2.73581624e-01,   2.09697366e+00],\n",
      "       [ -9.59554911e-01,  -1.77623332e-02],\n",
      "       [ -2.44734570e-01,  -7.98287153e-01],\n",
      "       [  6.10901177e-01,  -8.28841180e-02],\n",
      "       [ -2.82177776e-01,   1.91693783e-01],\n",
      "       [  2.68008232e+00,   1.44451094e+00],\n",
      "       [  1.54256904e+00,  -2.66045475e+00],\n",
      "       [  7.73140848e-01,   8.85672390e-01],\n",
      "       [ -1.13560438e+00,  -1.53591919e+00],\n",
      "       [ -5.40443718e-01,   9.45564747e-01],\n",
      "       [ -1.22389555e+00,   1.82756260e-01],\n",
      "       [ -5.32201350e-01,   8.12387884e-01],\n",
      "       [  1.90297735e+00,  -9.22492146e-01],\n",
      "       [ -1.92506909e-01,   1.24948394e+00],\n",
      "       [ -6.38818324e-01,  -6.39396489e-01],\n",
      "       [  1.02923667e+00,   9.71893489e-01],\n",
      "       [ -3.16479981e-01,   9.52209115e-01],\n",
      "       [ -1.10258424e+00,   9.11183357e-01],\n",
      "       [  1.67799807e+00,  -4.53045160e-01],\n",
      "       [ -2.69017834e-02,   3.76660258e-01],\n",
      "       [  5.35431445e-01,   6.76082730e-01],\n",
      "       [ -1.38415718e+00,   1.87537551e+00],\n",
      "       [  4.09707725e-01,  -2.45004389e-02],\n",
      "       [ -1.58807802e+00,  -6.49523854e-01],\n",
      "       [  4.88478728e-02,  -4.32532839e-02],\n",
      "       [  1.09457815e+00,  -4.88314837e-01],\n",
      "       [ -5.67277849e-01,  -4.20422971e-01],\n",
      "       [ -1.14064991e+00,   1.08165932e+00],\n",
      "       [  2.42044240e-01,  -8.55088234e-02],\n",
      "       [ -1.73926964e-01,   1.33712018e+00],\n",
      "       [ -1.04126275e+00,  -6.77616715e-01],\n",
      "       [  5.28653443e-01,   1.14566438e-01],\n",
      "       [  5.10752976e-01,   3.89066517e-01],\n",
      "       [  1.71679571e-01,  -2.62300301e+00],\n",
      "       [ -7.33700216e-01,  -1.21783447e+00],\n",
      "       [ -6.88225210e-01,   1.40014315e+00],\n",
      "       [ -1.27508378e+00,   8.42773169e-02],\n",
      "       [ -9.87359524e-01,  -5.09953380e-01],\n",
      "       [  8.53159249e-01,   6.21064246e-01],\n",
      "       [ -2.35550195e-01,  -7.57625937e-01],\n",
      "       [ -3.64769429e-01,  -1.74552417e+00],\n",
      "       [ -1.42790604e+00,   1.72870851e+00],\n",
      "       [  2.36219987e-01,  -9.11081970e-01],\n",
      "       [ -1.98879004e+00,  -4.83056635e-01],\n",
      "       [ -8.30984056e-01,  -1.39114690e+00],\n",
      "       [  7.82503843e-01,   1.42343640e+00],\n",
      "       [  2.04318714e+00,  -8.92892718e-01],\n",
      "       [ -1.60456508e-01,   7.73624659e-01],\n",
      "       [  2.70301253e-02,  -2.84246922e-01],\n",
      "       [ -3.82424891e-01,   5.09433627e-01],\n",
      "       [ -3.82189155e-01,   7.21209168e-01],\n",
      "       [  4.56681371e-01,   1.19105749e-01],\n",
      "       [  1.66454732e-01,   1.57957166e-01],\n",
      "       [ -7.99791276e-01,   3.23395021e-02],\n",
      "       [ -5.26987553e-01,   1.29684544e+00],\n",
      "       [ -6.80412948e-01,   5.40709198e-01],\n",
      "       [ -1.11970520e+00,   3.96946490e-01],\n",
      "       [ -2.00280356e+00,  -1.75875023e-01],\n",
      "       [  1.54800677e+00,  -1.08402455e+00],\n",
      "       [ -4.16838497e-01,   1.32928953e-01],\n",
      "       [ -5.61748683e-01,  -1.26570058e+00],\n",
      "       [  1.36532605e-01,  -3.23735118e-01],\n",
      "       [  1.36480212e+00,  -3.74508590e-01],\n",
      "       [ -6.36314273e-01,  -6.66023314e-01],\n",
      "       [ -1.11163688e+00,  -4.45033729e-01],\n",
      "       [  3.56548637e-01,  -7.60046244e-01],\n",
      "       [ -1.50201842e-01,  -1.39944422e+00],\n",
      "       [  2.09869528e+00,  -1.44171429e+00],\n",
      "       [  9.31473196e-01,  -1.36090720e+00],\n",
      "       [ -1.29977599e-01,   1.34034562e+00],\n",
      "       [ -1.14361003e-01,  -8.14064384e-01],\n",
      "       [ -2.40008056e-01,   7.21060276e-01],\n",
      "       [ -3.07816714e-01,   1.82066905e+00],\n",
      "       [  4.56427753e-01,  -9.06222165e-01],\n",
      "       [ -1.53656805e+00,  -6.70795366e-02],\n",
      "       [  2.01600862e+00,   1.27035052e-01],\n",
      "       [ -4.84277993e-01,   1.54086292e-01],\n",
      "       [ -8.78954470e-01,  -2.05238938e+00],\n",
      "       [ -5.07475376e-01,   1.24302280e+00],\n",
      "       [ -9.54056308e-02,  -2.06298494e+00],\n",
      "       [ -9.10533905e-01,   1.36517489e+00],\n",
      "       [ -2.53004837e-03,   4.48104382e-01],\n",
      "       [ -2.56550550e-01,   1.24315061e-01],\n",
      "       [ -9.73640084e-01,  -8.13022614e-01],\n",
      "       [ -2.17618537e+00,  -9.96552482e-02],\n",
      "       [ -2.04497814e+00,  -6.33320332e-01],\n",
      "       [ -8.37473929e-01,   4.13013369e-01],\n",
      "       [  9.19633508e-01,   2.26436436e-01],\n",
      "       [ -1.79252967e-01,   3.81372750e-01],\n",
      "       [ -5.78144252e-01,  -7.96731770e-01],\n",
      "       [  3.63363177e-01,  -6.28600596e-03],\n",
      "       [ -3.28326702e-01,  -2.33750820e+00],\n",
      "       [  1.74517453e-01,  -5.92944145e-01],\n",
      "       [  8.59151840e-01,   6.11747950e-02],\n",
      "       [ -1.66681743e+00,  -3.37454565e-02],\n",
      "       [  8.17961812e-01,   9.23808396e-01],\n",
      "       [ -1.95317066e+00,  -1.16003811e+00],\n",
      "       [  1.49924725e-01,  -1.15165842e+00],\n",
      "       [ -1.97983348e+00,  -1.03806674e+00],\n",
      "       [  1.31351411e+00,   1.67567325e+00],\n",
      "       [  9.89254117e-01,   5.54748476e-01],\n",
      "       [  7.40901887e-01,   6.45862520e-01],\n",
      "       [  5.05323589e-01,  -4.68148440e-02],\n",
      "       [ -4.08621967e-01,   1.70527875e+00],\n",
      "       [  4.45772529e-01,   1.06678760e+00],\n",
      "       [ -1.17532456e+00,   7.20899522e-01],\n",
      "       [ -9.46740359e-02,  -4.52510029e-01],\n",
      "       [ -6.02925718e-01,   5.78486562e-01],\n",
      "       [  1.33236265e+00,  -5.69887877e-01],\n",
      "       [ -3.41533989e-01,  -1.25179589e+00],\n",
      "       [  1.20155227e+00,  -8.98886740e-01],\n",
      "       [  8.98497462e-01,   1.49368632e+00],\n",
      "       [  9.36928809e-01,   1.54990423e+00],\n",
      "       [ -1.39577341e+00,   1.47071099e+00],\n",
      "       [ -9.99069333e-01,  -4.08968002e-01],\n",
      "       [ -2.41634294e-01,   8.93364191e-01],\n",
      "       [  9.10402000e-01,   6.87915921e-01]], dtype=float32)}\n"
     ]
    }
   ],
   "source": [
    "#这样不对，w和b仍是调用的是每次随机取值的。因为训练时是在with：里训练的，最终保存到ckpt里了。应该像上面一样读取训练好的模型参数，进行预测。\n",
    "#sess=tf.Session()\n",
    "#sess.run(init)\n",
    "#print(sess.run(weights))#tf.argmax(k,1)"
   ]
  },
  {
   "cell_type": "code",
   "execution_count": null,
   "metadata": {
    "collapsed": true
   },
   "outputs": [],
   "source": []
  }
 ],
 "metadata": {
  "kernelspec": {
   "display_name": "Python 3",
   "language": "python",
   "name": "python3"
  },
  "language_info": {
   "codemirror_mode": {
    "name": "ipython",
    "version": 3
   },
   "file_extension": ".py",
   "mimetype": "text/x-python",
   "name": "python",
   "nbconvert_exporter": "python",
   "pygments_lexer": "ipython3",
   "version": "3.6.3"
  }
 },
 "nbformat": 4,
 "nbformat_minor": 2
}
